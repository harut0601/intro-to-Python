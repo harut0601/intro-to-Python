{
 "cells": [
  {
   "cell_type": "markdown",
   "metadata": {},
   "source": [
    "# Problem 1"
   ]
  },
  {
   "cell_type": "code",
   "execution_count": 3,
   "metadata": {},
   "outputs": [
    {
     "name": "stdout",
     "output_type": "stream",
     "text": [
      "Number 1: 5\n",
      "Number 2: 7\n",
      "The greatest number is 7\n"
     ]
    }
   ],
   "source": [
    "n1 = int(input(\"Number 1: \"))\n",
    "n2 = int(input(\"Number 2: \"))\n",
    "if n1 > n2:\n",
    "    print(f\"The greatest number is {n1}\")\n",
    "elif n1 < n2:\n",
    "    print(f\"The greatest number is {n2}\") "
   ]
  },
  {
   "cell_type": "markdown",
   "metadata": {},
   "source": [
    "# Problem 2"
   ]
  },
  {
   "cell_type": "code",
   "execution_count": 5,
   "metadata": {},
   "outputs": [
    {
     "name": "stdout",
     "output_type": "stream",
     "text": [
      "A side: 6\n",
      "B side: 7\n",
      "rectangle\n"
     ]
    }
   ],
   "source": [
    "a = int(input(\"A side: \"))\n",
    "b = int(input(\"B side: \"))\n",
    "if a == b:\n",
    "    print(\"square\")\n",
    "else:\n",
    "    print(\"rectangle\")"
   ]
  },
  {
   "cell_type": "markdown",
   "metadata": {},
   "source": [
    "# Problem 3"
   ]
  },
  {
   "cell_type": "code",
   "execution_count": 7,
   "metadata": {},
   "outputs": [
    {
     "name": "stdout",
     "output_type": "stream",
     "text": [
      "Name here: batman\n",
      "Your age: 17\n",
      "The password: &*\n",
      "Welcome Mr. batman\n",
      "The password is ok\n",
      "You are registered.\n"
     ]
    }
   ],
   "source": [
    "name = input(\"Name here: \")\n",
    "age = int(input(\"Your age: \"))\n",
    "password = input(\"The password: \")\n",
    "if name.lower() == \"batman\":\n",
    "    print(f\"Welcome Mr. {name}\")\n",
    "else:\n",
    "    print(\"new\")\n",
    "    \n",
    "\n",
    "if password.__contains__(\"&\") and password.__contains__(\"*\"):\n",
    "    print(\"The password is ok\")\n",
    "else:\n",
    "    print(\"Please enter a different password\")\n",
    "    \n",
    "if age < 16:\n",
    "    print(f\"Dear {name}, you are too young to register\")\n",
    "elif age > 16 and password.__contains__(\"&\") and password.__contains__(\"*\"):\n",
    "    print(\"You are registered.\")"
   ]
  },
  {
   "cell_type": "markdown",
   "metadata": {},
   "source": [
    "# Problem 4"
   ]
  },
  {
   "cell_type": "code",
   "execution_count": 17,
   "metadata": {},
   "outputs": [
    {
     "name": "stdout",
     "output_type": "stream",
     "text": [
      "name\n",
      "age\n",
      "grades\n",
      "name\n",
      "age\n",
      "grades\n",
      "name\n",
      "age\n",
      "grades\n"
     ]
    }
   ],
   "source": [
    "d = {\"name\": \"Armen\", \"age\": 15,\"grades\": [10, 8, 8, 4, 6, 7] }\n",
    "\n",
    "for element in d:\n",
    "    "
   ]
  },
  {
   "cell_type": "markdown",
   "metadata": {},
   "source": [
    "# Problem 5"
   ]
  },
  {
   "cell_type": "code",
   "execution_count": 64,
   "metadata": {},
   "outputs": [
    {
     "name": "stdout",
     "output_type": "stream",
     "text": [
      "1\n",
      "3\n",
      "5\n",
      "7\n",
      "9\n",
      "11\n",
      "13\n",
      "15\n",
      "17\n",
      "19\n",
      "21\n",
      "23\n",
      "25\n",
      "27\n",
      "29\n",
      "31\n",
      "33\n",
      "35\n",
      "37\n",
      "39\n",
      "41\n",
      "43\n",
      "45\n",
      "47\n",
      "49\n",
      "51\n",
      "53\n",
      "55\n",
      "57\n",
      "59\n",
      "61\n",
      "63\n",
      "65\n",
      "67\n",
      "69\n",
      "71\n",
      "73\n",
      "75\n",
      "77\n",
      "79\n",
      "81\n",
      "83\n",
      "85\n",
      "87\n",
      "89\n",
      "91\n",
      "93\n",
      "95\n",
      "97\n",
      "99\n"
     ]
    }
   ],
   "source": [
    "for i in range(1, 101):\n",
    "    if i % 2 == 1:\n",
    "        print(i)\n",
    "    else:\n",
    "        pass"
   ]
  },
  {
   "cell_type": "markdown",
   "metadata": {},
   "source": [
    "# Problem 6"
   ]
  },
  {
   "cell_type": "code",
   "execution_count": 30,
   "metadata": {},
   "outputs": [
    {
     "name": "stdout",
     "output_type": "stream",
     "text": [
      "1\n",
      "3\n",
      "5\n",
      "6\n"
     ]
    }
   ],
   "source": [
    "for i in range(1, 7):\n",
    "    if i == 2:\n",
    "        continue\n",
    "    elif i == 4:\n",
    "        continue\n",
    "    print(i)"
   ]
  },
  {
   "cell_type": "markdown",
   "metadata": {},
   "source": [
    "# Problem 7"
   ]
  },
  {
   "cell_type": "code",
   "execution_count": 34,
   "metadata": {},
   "outputs": [
    {
     "name": "stdout",
     "output_type": "stream",
     "text": [
      "15\n"
     ]
    }
   ],
   "source": [
    "for i in range(1, 21):\n",
    "    if i % 3 == 0 and i % 5 == 0:\n",
    "        print(i)\n",
    "        break"
   ]
  },
  {
   "cell_type": "markdown",
   "metadata": {},
   "source": [
    "# Problem 8"
   ]
  },
  {
   "cell_type": "code",
   "execution_count": 35,
   "metadata": {},
   "outputs": [
    {
     "name": "stdout",
     "output_type": "stream",
     "text": [
      "5\n",
      "7\n",
      "-7\n",
      "abc\n",
      "2\n",
      "4\n",
      "True\n"
     ]
    }
   ],
   "source": [
    "list1 = [5, 7, -7, \"abc\", 2, 4, True, 3, 4, 6, 7, 7]\n",
    "for element in list1:\n",
    "    if element == 3:\n",
    "        break\n",
    "    print(element)"
   ]
  },
  {
   "cell_type": "markdown",
   "metadata": {},
   "source": [
    "# Problem 9"
   ]
  },
  {
   "cell_type": "code",
   "execution_count": 69,
   "metadata": {},
   "outputs": [
    {
     "name": "stdout",
     "output_type": "stream",
     "text": [
      "The number: 6\n",
      "The number: 5\n",
      "That was a good guess!\n"
     ]
    }
   ],
   "source": [
    "correct_num = 5\n",
    "counter = 0\n",
    "while counter < 10:\n",
    "    guess = int(input(\"The number: \"))\n",
    "    if guess == correct_num:\n",
    "        print(\"That was a good guess!\")\n",
    "        break\n",
    "    else:\n",
    "        counter += 1\n"
   ]
  },
  {
   "cell_type": "markdown",
   "metadata": {},
   "source": [
    "# Problem 10"
   ]
  },
  {
   "cell_type": "code",
   "execution_count": 68,
   "metadata": {},
   "outputs": [
    {
     "name": "stdout",
     "output_type": "stream",
     "text": [
      "[7, 8, 120, 25, 44, 20, 27]\n",
      "[7, 25, 27]\n"
     ]
    }
   ],
   "source": [
    "num = [7, 8, 120, 25, 44, 20, 27]\n",
    "num1 = num.copy()\n",
    "\n",
    "for element in num:\n",
    "    if element % 2 == 0:\n",
    "        num1.remove(element)\n",
    "\n",
    "print(num)\n",
    "print(num1)"
   ]
  },
  {
   "cell_type": "markdown",
   "metadata": {},
   "source": [
    "# Problem 11"
   ]
  },
  {
   "cell_type": "code",
   "execution_count": 16,
   "metadata": {},
   "outputs": [
    {
     "name": "stdout",
     "output_type": "stream",
     "text": [
      "[1, 4, 9, 16, 25, 36, 49, 64, 81, 100, 121, 144, 169, 196, 225, 256, 289, 324, 361, 400, 441, 484, 529, 576, 625, 676, 729, 784, 841, 900, 961, 1024, 1089, 1156, 1225, 1296, 1369, 1444, 1521, 1600, 1681, 1764, 1849, 1936, 2025, 2116, 2209, 2304, 2401, 2500]\n"
     ]
    }
   ],
   "source": [
    "list3 = []\n",
    "for element in range(1, 51):\n",
    "    list3.append(element**2)\n",
    "print(list3)"
   ]
  },
  {
   "cell_type": "markdown",
   "metadata": {},
   "source": [
    "# Problem 12"
   ]
  },
  {
   "cell_type": "code",
   "execution_count": 17,
   "metadata": {},
   "outputs": [
    {
     "name": "stdout",
     "output_type": "stream",
     "text": [
      "[50, 60, 71]\n"
     ]
    }
   ],
   "source": [
    "list1 = [1, 50, 7, 60, 71, 3]\n",
    "list2 = []\n",
    "\n",
    "for element in list1:\n",
    "    if element > 20:\n",
    "        list2.append(element)\n",
    "        \n",
    "print(list2)"
   ]
  },
  {
   "cell_type": "markdown",
   "metadata": {},
   "source": [
    "# Problem 13"
   ]
  },
  {
   "cell_type": "code",
   "execution_count": 21,
   "metadata": {},
   "outputs": [
    {
     "name": "stdout",
     "output_type": "stream",
     "text": [
      "text: lala\n",
      "lala\n",
      "['l', 'a', 'l', 'a']\n"
     ]
    }
   ],
   "source": [
    "str1 = input(\"text: \")\n",
    "l1 = list(str1)\n",
    "print(str1)\n",
    "print(l1)"
   ]
  },
  {
   "cell_type": "markdown",
   "metadata": {},
   "source": [
    "# Problem 14"
   ]
  },
  {
   "cell_type": "code",
   "execution_count": 65,
   "metadata": {},
   "outputs": [
    {
     "name": "stdout",
     "output_type": "stream",
     "text": [
      "count 4\n",
      "duplicate letters ['aba', '1221']\n"
     ]
    }
   ],
   "source": [
    "list1 = ['a', 'abc', 'xyz', 's', 'aba','1221']\n",
    "new_list = []\n",
    "new_list1 = []\n",
    "\n",
    "for element in list1:\n",
    "    \n",
    "    if len(element) > 2:\n",
    "        new_list.append(element)\n",
    "        \n",
    "        \n",
    "for element in list1:\n",
    "    if element[0] == element[-1] and len(element) > 1:\n",
    "        new_list1.append(element)\n",
    "        \n",
    "        \n",
    "print(\"count\", len(new_list))\n",
    "print(\"duplicate letters\", new_list1)"
   ]
  },
  {
   "cell_type": "code",
   "execution_count": null,
   "metadata": {},
   "outputs": [],
   "source": []
  }
 ],
 "metadata": {
  "kernelspec": {
   "display_name": "Python 3",
   "language": "python",
   "name": "python3"
  },
  "language_info": {
   "codemirror_mode": {
    "name": "ipython",
    "version": 3
   },
   "file_extension": ".py",
   "mimetype": "text/x-python",
   "name": "python",
   "nbconvert_exporter": "python",
   "pygments_lexer": "ipython3",
   "version": "3.7.4"
  }
 },
 "nbformat": 4,
 "nbformat_minor": 2
}
