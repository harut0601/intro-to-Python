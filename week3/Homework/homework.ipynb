{
 "cells": [
  {
   "cell_type": "markdown",
   "metadata": {},
   "source": [
    "# Problem 1"
   ]
  },
  {
   "cell_type": "code",
   "execution_count": 3,
   "metadata": {},
   "outputs": [
    {
     "name": "stdout",
     "output_type": "stream",
     "text": [
      "7 -2\n",
      "[8, 7, 5, 4, 1, 0, -1, -2]\n",
      "[8, 7, 5]\n",
      "[5, 4, 1, 0]\n",
      "[8, 7, 5, 4, 1, 0, -1, -2]\n",
      "[8, 7, 1, 0, -1, -2]\n",
      "['Broccoli', 'Carrot', 'Lemon', 'Orange', 'Potatoes', 'Sausages', 'grapes', 'tomatoes']\n",
      "[1, 4, 'Orange', 'Lemon', 'Broccoli']\n"
     ]
    }
   ],
   "source": [
    "run problem1.py"
   ]
  },
  {
   "cell_type": "markdown",
   "metadata": {},
   "source": [
    "# Problem 2"
   ]
  },
  {
   "cell_type": "code",
   "execution_count": 4,
   "metadata": {},
   "outputs": [
    {
     "name": "stdout",
     "output_type": "stream",
     "text": [
      "{'Chocolate', True, False, 8, 'Cookies', -5, -3}\n",
      "{'Chocolate', True, False, 8, 10, 'Jelly', 14, 'Milk'}\n",
      "{'Chocolate', True, False, 8, 'Cookies', 10, 'Jelly', 14, 'Milk', -5, -3}\n",
      "{'Chocolate', True, False, 8}\n",
      "{'Chocolate', True, False, 8, 'Cookies', 10, 'Jelly', 14, 'Milk', 'oreo', 'kitkat', -5, -3}\n"
     ]
    }
   ],
   "source": [
    "run problem2.py"
   ]
  },
  {
   "cell_type": "markdown",
   "metadata": {},
   "source": [
    "# Problem 3"
   ]
  },
  {
   "cell_type": "code",
   "execution_count": 7,
   "metadata": {},
   "outputs": [
    {
     "name": "stdout",
     "output_type": "stream",
     "text": [
      "(1, True, 'a', -2, 'Anna')\n",
      "('a', 'Anna', -2)\n",
      "The new tuple: (1, True, 1, 2, 3)\n",
      "2nd index: 1\n",
      "0 1 index: 3\n"
     ]
    }
   ],
   "source": [
    "run problem3.py"
   ]
  },
  {
   "cell_type": "markdown",
   "metadata": {},
   "source": [
    "# Problem 4"
   ]
  },
  {
   "cell_type": "code",
   "execution_count": 10,
   "metadata": {},
   "outputs": [
    {
     "name": "stderr",
     "output_type": "stream",
     "text": [
      "ERROR:root:File `'problem4.py'` not found.\n"
     ]
    }
   ],
   "source": [
    "run problem4.py"
   ]
  }
 ],
 "metadata": {
  "kernelspec": {
   "display_name": "Python 3",
   "language": "python",
   "name": "python3"
  },
  "language_info": {
   "codemirror_mode": {
    "name": "ipython",
    "version": 3
   },
   "file_extension": ".py",
   "mimetype": "text/x-python",
   "name": "python",
   "nbconvert_exporter": "python",
   "pygments_lexer": "ipython3",
   "version": "3.7.4"
  }
 },
 "nbformat": 4,
 "nbformat_minor": 2
}
