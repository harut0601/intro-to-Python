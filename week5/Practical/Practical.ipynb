{
 "cells": [
  {
   "cell_type": "markdown",
   "metadata": {},
   "source": [
    "# Problem 1"
   ]
  },
  {
   "cell_type": "code",
   "execution_count": null,
   "metadata": {},
   "outputs": [],
   "source": [
    "def First_func(x, y, z):\n",
    "    return (x+y+z)/3\n",
    "\n",
    "\n",
    "func = First_func(2, 2, 5)\n",
    "print(func)"
   ]
  },
  {
   "cell_type": "markdown",
   "metadata": {},
   "source": [
    "# Problem 2"
   ]
  },
  {
   "cell_type": "code",
   "execution_count": null,
   "metadata": {},
   "outputs": [],
   "source": [
    "def Even(new_list):\n",
    "    counter = 0\n",
    "    for element in new_list:\n",
    "        if element%2 == 0:\n",
    "            counter += 1 \n",
    "        else:\n",
    "            pass\n",
    "    return counter\n",
    "       \n",
    "            \n",
    "even = Even([1, 2, 6])\n",
    "print(even)"
   ]
  },
  {
   "cell_type": "markdown",
   "metadata": {},
   "source": [
    "# Problem 3"
   ]
  },
  {
   "cell_type": "code",
   "execution_count": 94,
   "metadata": {},
   "outputs": [
    {
     "name": "stdout",
     "output_type": "stream",
     "text": [
      "True\n"
     ]
    }
   ],
   "source": [
    "def Password(password_str):\n",
    "    c = 0\n",
    "    for element in password_str:\n",
    "        if element.isdigit():\n",
    "            c += 1\n",
    "    \n",
    "    \n",
    "    if len(password_str) > 9 and c > 1:\n",
    "         print(True)\n",
    "    else:\n",
    "        print(False)\n",
    "        \n",
    "\n",
    "\n",
    "Password('jcnjnciqncqa77')\n"
   ]
  },
  {
   "cell_type": "markdown",
   "metadata": {},
   "source": [
    "# Problem 4"
   ]
  },
  {
   "cell_type": "code",
   "execution_count": 97,
   "metadata": {},
   "outputs": [
    {
     "name": "stdout",
     "output_type": "stream",
     "text": [
      "new, Welcome to our company!\n"
     ]
    }
   ],
   "source": [
    "def GreetingName(name, greeting = \"Welcome to our company!\"):\n",
    "    return name + \", \" + greeting\n",
    "\n",
    "\n",
    "name = GreetingName(\"new\")\n",
    "print(name)"
   ]
  },
  {
   "cell_type": "markdown",
   "metadata": {},
   "source": [
    "# Problem 5"
   ]
  },
  {
   "cell_type": "code",
   "execution_count": 64,
   "metadata": {},
   "outputs": [
    {
     "name": "stdout",
     "output_type": "stream",
     "text": [
      "Harut, your average grade is: 6.5\n"
     ]
    }
   ],
   "source": [
    "def Grades(name, *args):\n",
    "    if len(args) >= 1:\n",
    "            \n",
    "        gr = sum(args)/len(args)\n",
    "        return name + \", your average grade is: \" + str(gr)\n",
    "    else:\n",
    "        return \"No grades availble for \" + name\n",
    "        \n",
    "    \n",
    "\n",
    "        \n",
    "grades = Grades('Harut', 6, 7)\n",
    "print(grades)"
   ]
  },
  {
   "cell_type": "markdown",
   "metadata": {},
   "source": [
    "# Problem 6"
   ]
  },
  {
   "cell_type": "code",
   "execution_count": 98,
   "metadata": {},
   "outputs": [
    {
     "name": "stdout",
     "output_type": "stream",
     "text": [
      "Argument0 name: bew\n",
      "Argument1 name: nduw\n",
      "Argument2 name: nwqj\n"
     ]
    }
   ],
   "source": [
    "def AdminAcces(user, *args):\n",
    "    c = 0\n",
    "    \n",
    "    if user == \"admin\":\n",
    "        for element in args:\n",
    "            new = \"Argument\" + str(c) + \" name: \" + str(element)\n",
    "            c += 1\n",
    "            print(new)   \n",
    "admin = AdminAcces(\"admin\", 'bew', 'nduw', \"nwqj\")\n"
   ]
  },
  {
   "cell_type": "code",
   "execution_count": null,
   "metadata": {},
   "outputs": [],
   "source": []
  }
 ],
 "metadata": {
  "kernelspec": {
   "display_name": "Python 3",
   "language": "python",
   "name": "python3"
  },
  "language_info": {
   "codemirror_mode": {
    "name": "ipython",
    "version": 3
   },
   "file_extension": ".py",
   "mimetype": "text/x-python",
   "name": "python",
   "nbconvert_exporter": "python",
   "pygments_lexer": "ipython3",
   "version": "3.7.4"
  }
 },
 "nbformat": 4,
 "nbformat_minor": 2
}
