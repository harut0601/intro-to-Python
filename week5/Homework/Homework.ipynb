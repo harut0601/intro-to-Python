{
 "cells": [
  {
   "cell_type": "markdown",
   "metadata": {},
   "source": [
    "# Problem 1"
   ]
  },
  {
   "cell_type": "code",
   "execution_count": 10,
   "metadata": {},
   "outputs": [],
   "source": [
    "def max(*args):\n",
    "    if len(args) >= 1:\n",
    "        for element in args:\n",
    "            max = args[0]\n",
    "            if element > args[0]:\n",
    "                max = element\n",
    "        return element\n",
    "    else:\n",
    "        print(\"No arguments are given!\")"
   ]
  },
  {
   "cell_type": "code",
   "execution_count": 14,
   "metadata": {},
   "outputs": [
    {
     "name": "stdout",
     "output_type": "stream",
     "text": [
      "10\n"
     ]
    }
   ],
   "source": [
    "maximum = max(5, 7, 8, 10)\n",
    "print(maximum)"
   ]
  },
  {
   "cell_type": "markdown",
   "metadata": {},
   "source": [
    "# Problem 2"
   ]
  },
  {
   "cell_type": "code",
   "execution_count": 34,
   "metadata": {},
   "outputs": [],
   "source": [
    "def unique(*args):\n",
    "    unique_list = [] \n",
    "    for x in args: \n",
    "        if x not in unique_list: \n",
    "            unique_list.append(x)  \n",
    "    print(unique_list)"
   ]
  },
  {
   "cell_type": "code",
   "execution_count": 35,
   "metadata": {},
   "outputs": [
    {
     "name": "stdout",
     "output_type": "stream",
     "text": [
      "['bla', 'new', 'cni']\n"
     ]
    }
   ],
   "source": [
    "new_list = unique('bla', 'bla', 'new', 'cni', 'new')"
   ]
  },
  {
   "cell_type": "markdown",
   "metadata": {},
   "source": [
    "# Problem 3"
   ]
  },
  {
   "cell_type": "code",
   "execution_count": 48,
   "metadata": {},
   "outputs": [
    {
     "name": "stdout",
     "output_type": "stream",
     "text": [
      "Before function call\n",
      "Inside the function\n",
      "After the function call\n"
     ]
    }
   ],
   "source": [
    "def decorator2(func):\n",
    "    def wrapper(*args, **kwargs):\n",
    "        func(*args, **kwargs)\n",
    "        print(\"After the function call\")\n",
    "    return wrapper\n",
    "\n",
    "\n",
    "def decorator1(func):\n",
    "    def wrapper(*args, **kwargs):\n",
    "        func(*args, **kwargs)\n",
    "        print(\"Inside the function\")\n",
    "    return wrapper\n",
    "\n",
    "\n",
    "@decorator2\n",
    "@decorator1\n",
    "def hi_everyone():\n",
    "    print(\"Before function call\")\n",
    "\n",
    "\n",
    "hi_everyone()\n"
   ]
  },
  {
   "cell_type": "markdown",
   "metadata": {},
   "source": [
    "# Problem 4"
   ]
  },
  {
   "cell_type": "code",
   "execution_count": 53,
   "metadata": {},
   "outputs": [
    {
     "name": "stdout",
     "output_type": "stream",
     "text": [
      "<u>Hi, it's me!</u>\n"
     ]
    }
   ],
   "source": [
    "def decoration2(fun):\n",
    "    def wrapped(*args, **kwargs):       \n",
    "        return \"<u>\" + fun(*args, **kwargs) + \"</u>\"\n",
    "    return wrapped\n",
    "\n",
    "def decoration1(fun):\n",
    "    def wrapped():\n",
    "        return fun() + \", it's me!\"\n",
    "    return wrapped\n",
    "\n",
    "\n",
    "\n",
    "@decoration2\n",
    "@decoration1\n",
    "def new():\n",
    "    return \"Hi\"\n",
    "\n",
    "print (new())"
   ]
  },
  {
   "cell_type": "markdown",
   "metadata": {},
   "source": [
    "# Problem 5"
   ]
  },
  {
   "cell_type": "code",
   "execution_count": 235,
   "metadata": {
    "scrolled": true
   },
   "outputs": [
    {
     "name": "stdout",
     "output_type": "stream",
     "text": [
      "1\n"
     ]
    }
   ],
   "source": [
    "def my_range(n):\n",
    "    for i in range(1, n+1):\n",
    "        yield(i)\n",
    "        if i > 10:\n",
    "            print(\"hi\")\n",
    "    \n",
    "x = my_range(10)\n",
    "\n",
    "print(next(x))"
   ]
  },
  {
   "cell_type": "code",
   "execution_count": 209,
   "metadata": {},
   "outputs": [
    {
     "name": "stdout",
     "output_type": "stream",
     "text": [
      "10\n"
     ]
    }
   ],
   "source": [
    "print(next(x))"
   ]
  },
  {
   "cell_type": "markdown",
   "metadata": {},
   "source": [
    "# Problem 6"
   ]
  },
  {
   "cell_type": "code",
   "execution_count": 1,
   "metadata": {},
   "outputs": [],
   "source": [
    "run productcheck.py"
   ]
  },
  {
   "cell_type": "code",
   "execution_count": 2,
   "metadata": {},
   "outputs": [
    {
     "name": "stdout",
     "output_type": "stream",
     "text": [
      "You bought candy and spent 225\n"
     ]
    }
   ],
   "source": [
    "run customer.py"
   ]
  },
  {
   "cell_type": "code",
   "execution_count": null,
   "metadata": {},
   "outputs": [],
   "source": []
  }
 ],
 "metadata": {
  "kernelspec": {
   "display_name": "Python 3",
   "language": "python",
   "name": "python3"
  },
  "language_info": {
   "codemirror_mode": {
    "name": "ipython",
    "version": 3
   },
   "file_extension": ".py",
   "mimetype": "text/x-python",
   "name": "python",
   "nbconvert_exporter": "python",
   "pygments_lexer": "ipython3",
   "version": "3.7.4"
  }
 },
 "nbformat": 4,
 "nbformat_minor": 2
}
