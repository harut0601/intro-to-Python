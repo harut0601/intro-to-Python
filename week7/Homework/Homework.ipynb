{
 "cells": [
  {
   "cell_type": "markdown",
   "metadata": {},
   "source": [
    "# Problem 1"
   ]
  },
  {
   "cell_type": "code",
   "execution_count": 2,
   "metadata": {},
   "outputs": [],
   "source": [
    "class Calculation:\n",
    "    def __init__(self, x, y):\n",
    "        self.x = x\n",
    "        self.y = y\n",
    "        \n",
    "    def addition(self):\n",
    "        return self.x + self.y\n",
    "    \n",
    "    def subtraction(self):\n",
    "        return self.x - self.y"
   ]
  },
  {
   "cell_type": "code",
   "execution_count": 3,
   "metadata": {},
   "outputs": [
    {
     "name": "stdout",
     "output_type": "stream",
     "text": [
      "9\n",
      "1\n"
     ]
    }
   ],
   "source": [
    "c = Calculation(5,4)\n",
    "\n",
    "print(c.addition())\n",
    "print(c.subtraction())\n"
   ]
  },
  {
   "cell_type": "markdown",
   "metadata": {},
   "source": [
    " "
   ]
  },
  {
   "cell_type": "code",
   "execution_count": 4,
   "metadata": {},
   "outputs": [],
   "source": [
    "class MyCalculation(Calculation):\n",
    "    def multiplication(self):\n",
    "        return self.x * self.y\n",
    "    def division(self):\n",
    "        return self.x / self.y"
   ]
  },
  {
   "cell_type": "code",
   "execution_count": 5,
   "metadata": {},
   "outputs": [
    {
     "name": "stdout",
     "output_type": "stream",
     "text": [
      "20\n",
      "1.25\n"
     ]
    }
   ],
   "source": [
    "c = MyCalculation(5,4)\n",
    "\n",
    "print(c.multiplication())\n",
    "print(c.division())\n"
   ]
  },
  {
   "cell_type": "markdown",
   "metadata": {},
   "source": [
    "Չհասկացա պահանջը՜Ստեղծեք MyCalculation class-ի object 3 ու 5 attribute-ների արժեքներով ու կանչեք իր վրա\n",
    "addition, subtraction, multiplication ու division method-ները:\n",
    "՜"
   ]
  },
  {
   "cell_type": "markdown",
   "metadata": {},
   "source": [
    "# Problem 2"
   ]
  },
  {
   "cell_type": "code",
   "execution_count": 64,
   "metadata": {},
   "outputs": [],
   "source": [
    "import datetime\n",
    "class My_Time:\n",
    "    def __init__(self, t):\n",
    "        from datetime import datetime\n",
    "        timestamp = 1528797322\n",
    "        date_time = datetime.fromtimestamp(timestamp)\n",
    "\n",
    "        d = date_time.strftime(\"%I%p\")\n",
    "        \n",
    "        self.t = d\n",
    "        \n",
    "    def printTime(self):\n",
    "        return \"The time is\", self.t"
   ]
  },
  {
   "cell_type": "code",
   "execution_count": 68,
   "metadata": {},
   "outputs": [
    {
     "name": "stdout",
     "output_type": "stream",
     "text": [
      "The time is:  6\n"
     ]
    },
    {
     "data": {
      "text/plain": [
       "('The time is', None)"
      ]
     },
     "execution_count": 68,
     "metadata": {},
     "output_type": "execute_result"
    }
   ],
   "source": [
    "time = My_Time(6)\n",
    "time.printTime()"
   ]
  },
  {
   "cell_type": "code",
   "execution_count": 94,
   "metadata": {},
   "outputs": [],
   "source": [
    "class My_Time:\n",
    "    def __init__(self, t):\n",
    "        \n",
    "        self.t = t\n",
    "        \n",
    "    def printTime(self):\n",
    "        d = print(\"The time is: \", self.t)\n"
   ]
  },
  {
   "cell_type": "code",
   "execution_count": 95,
   "metadata": {},
   "outputs": [
    {
     "name": "stdout",
     "output_type": "stream",
     "text": [
      "The time is:  10AM\n"
     ]
    }
   ],
   "source": [
    "time = My_Time(\"10AM\")\n",
    "time.printTime()"
   ]
  },
  {
   "cell_type": "code",
   "execution_count": 97,
   "metadata": {},
   "outputs": [],
   "source": [
    "class My_Date:\n",
    "    def __init__(self, color):\n",
    "        self.d = color\n",
    "    \n",
    "    def printDate(self):\n",
    "        print(\"The current date is\", self.d)\n",
    "    \n",
    "    "
   ]
  },
  {
   "cell_type": "code",
   "execution_count": 102,
   "metadata": {},
   "outputs": [
    {
     "name": "stdout",
     "output_type": "stream",
     "text": [
      "The current date is 04-12-2019\n"
     ]
    }
   ],
   "source": [
    "date = My_Date(\"04-12-2019\")\n",
    "date.printDate()"
   ]
  },
  {
   "cell_type": "code",
   "execution_count": 104,
   "metadata": {},
   "outputs": [],
   "source": [
    "class Date_Time(My_Date,My_Time):\n",
    "    def __init__(self, d, t):\n",
    "        self.d = d\n",
    "        self.t = t\n",
    "    "
   ]
  },
  {
   "cell_type": "code",
   "execution_count": 108,
   "metadata": {},
   "outputs": [
    {
     "name": "stdout",
     "output_type": "stream",
     "text": [
      "The current date is 12 PM\n",
      "The time is:  13.03.2013\n"
     ]
    }
   ],
   "source": [
    "dt = Date_Time(\"12 PM\", \"13.03.2013\")\n",
    "dt.printDate()\n",
    "dt.printTime()"
   ]
  }
 ],
 "metadata": {
  "kernelspec": {
   "display_name": "Python 3",
   "language": "python",
   "name": "python3"
  },
  "language_info": {
   "codemirror_mode": {
    "name": "ipython",
    "version": 3
   },
   "file_extension": ".py",
   "mimetype": "text/x-python",
   "name": "python",
   "nbconvert_exporter": "python",
   "pygments_lexer": "ipython3",
   "version": "3.7.4"
  }
 },
 "nbformat": 4,
 "nbformat_minor": 2
}
