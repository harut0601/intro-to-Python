{
 "cells": [
  {
   "cell_type": "code",
   "execution_count": null,
   "metadata": {
    "scrolled": true
   },
   "outputs": [],
   "source": [
    "project = \"cake\"\n",
    "difficulty = int(input(\"Difficulty(1-5):\"))\n",
    "ingredients = [\"flour\",\"butter\", \"sugar\", \"eggs\", \"cocoa powder\", \"baking powder\"]\n",
    "print(\"Apple is in ingredients:\", \"apple\" in ingredients)\n",
    "print(\"Butter is in ingredients:\", \"butter\" in ingredients)\n",
    "print(\"Either eggs or margarine:\", \"eggs or margarine\" in ingredients)\n",
    "print(\"Eggs and margarine:\", \"eggs and margarine\" in ingredients)\n",
    "flour = 175\n",
    "butter = 175\n",
    "sugar = 100\n",
    "cocoa_powder = 2\n",
    "baking_powder = 0.5\n",
    "print(\"Flour:\", flour, \"g\")\n",
    "print(\"butter:\", butter, \"g\")\n",
    "print(\"Sugar\", sugar, \"g\")\n",
    "print(\"Cocoa Powder\", cocoa_powder, \"ts\")\n",
    "print(\"Baking Powder\", baking_powder, \"ts\")"
   ]
  },
  {
   "cell_type": "code",
   "execution_count": 7,
   "metadata": {},
   "outputs": [
    {
     "name": "stdout",
     "output_type": "stream",
     "text": [
      "a = 5\n",
      "b = 4\n",
      "c = 6\n",
      "104.33333333333333\n",
      "-176\n"
     ]
    }
   ],
   "source": [
    "import math\n",
    "a = int(input(\"a = \"))\n",
    "b = int(input(\"b = \"))\n",
    "c = int(input(\"c = \"))\n",
    "result_1 = (5*a*a)-(a*b)+(a%2)-(a/3)\n",
    "print(result_1)\n",
    "result_2 = (b*b*b)+(3*a*b)-(10*a*c)\n",
    "print(result_2)"
   ]
  },
  {
   "cell_type": "code",
   "execution_count": 12,
   "metadata": {},
   "outputs": [
    {
     "name": "stdout",
     "output_type": "stream",
     "text": [
      "Write a random number 3\n",
      "odd\n"
     ]
    }
   ],
   "source": [
    "number = int(input(\"Write a random number \"))\n",
    "number//2\n",
    "if number%2 == 0:\n",
    "    print('even')\n",
    "else:\n",
    "    print('odd')"
   ]
  },
  {
   "cell_type": "code",
   "execution_count": null,
   "metadata": {},
   "outputs": [],
   "source": []
  }
 ],
 "metadata": {
  "kernelspec": {
   "display_name": "Python 3",
   "language": "python",
   "name": "python3"
  },
  "language_info": {
   "codemirror_mode": {
    "name": "ipython",
    "version": 3
   },
   "file_extension": ".py",
   "mimetype": "text/x-python",
   "name": "python",
   "nbconvert_exporter": "python",
   "pygments_lexer": "ipython3",
   "version": "3.7.4"
  }
 },
 "nbformat": 4,
 "nbformat_minor": 2
}
