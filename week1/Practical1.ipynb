{
 "cells": [
  {
   "cell_type": "markdown",
   "metadata": {},
   "source": [
    "# Problem 2"
   ]
  },
  {
   "cell_type": "code",
   "execution_count": 2,
   "metadata": {},
   "outputs": [
    {
     "name": "stdout",
     "output_type": "stream",
     "text": [
      "Course name: dq\n",
      "Your name and last name: qdq\n",
      "What is your preffered nickname? caca\n",
      "1-100: 35\n",
      "True/False: true\n",
      "Course: dq\n",
      "Student: qdq\n",
      "Nickname: caca\n",
      "Grade: 35\n",
      "Python expert: true\n"
     ]
    }
   ],
   "source": [
    "course = input(\"Course name: \")\n",
    "your_name_your_last_name = input(\"Your name and last name: \")\n",
    "your_prefered_nickname = input(\"What is your preffered nickname? \")\n",
    "grade = int(input(\"1-100: \"))\n",
    "python_expert = input(\"True/False: \")\n",
    "print(\"Course:\", course)\n",
    "print(\"Student:\", your_name_your_last_name)\n",
    "print(\"Nickname:\", your_prefered_nickname)\n",
    "print(\"Grade:\", grade)\n",
    "print(\"Python expert:\", python_expert)"
   ]
  },
  {
   "cell_type": "markdown",
   "metadata": {},
   "source": [
    "# Problem 4"
   ]
  },
  {
   "cell_type": "code",
   "execution_count": null,
   "metadata": {},
   "outputs": [],
   "source": [
    "import math\n",
    "ab = int(input('AB = '))\n",
    "ac = int(input('AC = '))\n",
    "bc = int(ab*ab+ac*ac)\n",
    "print(\"BC^2 =\", int(bc))\n",
    "print(\"BC =\", math.sqrt(bc))"
   ]
  }
 ],
 "metadata": {
  "kernelspec": {
   "display_name": "Python 3",
   "language": "python",
   "name": "python3"
  },
  "language_info": {
   "codemirror_mode": {
    "name": "ipython",
    "version": 3
   },
   "file_extension": ".py",
   "mimetype": "text/x-python",
   "name": "python",
   "nbconvert_exporter": "python",
   "pygments_lexer": "ipython3",
   "version": "3.7.4"
  }
 },
 "nbformat": 4,
 "nbformat_minor": 2
}
