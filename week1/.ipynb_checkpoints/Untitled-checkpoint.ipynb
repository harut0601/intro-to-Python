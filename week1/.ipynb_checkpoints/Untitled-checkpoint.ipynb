{
 "cells": [
  {
   "cell_type": "code",
   "execution_count": null,
   "metadata": {},
   "outputs": [],
   "source": [
    "number = int(input(\"Random number:\" ))\n",
    "if number%2 == 0:\n",
    "    print(\"The number\", number, \"is even\")\n",
    "else:\n",
    "    print(\"The number\", number, \"is odd\")"
   ]
  },
  {
   "cell_type": "code",
   "execution_count": null,
   "metadata": {},
   "outputs": [],
   "source": [
    "a = input(\"Your name: \")\n",
    "len(a)"
   ]
  },
  {
   "cell_type": "code",
   "execution_count": null,
   "metadata": {},
   "outputs": [],
   "source": [
    "print(10 ** 20)"
   ]
  },
  {
   "cell_type": "code",
   "execution_count": null,
   "metadata": {},
   "outputs": [],
   "source": [
    "x = (10 + 3) * 2\n",
    "print(x)"
   ]
  },
  {
   "cell_type": "code",
   "execution_count": null,
   "metadata": {},
   "outputs": [],
   "source": [
    "x = 2.4\n",
    "print(round(x))"
   ]
  },
  {
   "cell_type": "code",
   "execution_count": null,
   "metadata": {},
   "outputs": [],
   "source": [
    "import math\n",
    "x = 10\n",
    "print(math.sqrt(x))\n"
   ]
  },
  {
   "cell_type": "code",
   "execution_count": null,
   "metadata": {},
   "outputs": [],
   "source": [
    "price = 1000000\n",
    "good_credit = False\n",
    "if good_credit:\n",
    "    print(price*10/100)\n",
    "else:\n",
    "    print(price*20/100)\n",
    "    "
   ]
  },
  {
   "cell_type": "code",
   "execution_count": null,
   "metadata": {},
   "outputs": [],
   "source": [
    "temperature = int(input(\"Temperature\")) \n",
    "if temperature > 30:\n",
    "    print(\"It is a hot day!\")\n",
    "else:\n",
    "    print(\"Hello!\")"
   ]
  },
  {
   "cell_type": "code",
   "execution_count": null,
   "metadata": {},
   "outputs": [],
   "source": [
    "name = input(\"Your name here: \")\n",
    "if len(name) < 3:\n",
    "    print(\"The name must be at least 3 charecters.\")\n",
    "elif len(name) > 40:\n",
    "    print(\"The name must be a maximum of 40 charecters.\")\n",
    "else:\n",
    "    print(\"The name is accepted!\")"
   ]
  },
  {
   "cell_type": "code",
   "execution_count": 4,
   "metadata": {},
   "outputs": [
    {
     "name": "stdout",
     "output_type": "stream",
     "text": [
      "Your weight; 160\n",
      "(L)bs or (K)g: l\n",
      "72.72727272727272 Kg\n"
     ]
    }
   ],
   "source": [
    "weight = int(input(\"Your weight; \"))\n",
    "kilo_pound = input(\"(L)bs or (K)g: \")\n",
    "if kilo_pound.upper() == \"K\":\n",
    "    print(weight*0.45, \"Lbs\")\n",
    "else:\n",
    "    print(weight/2.2, \"Kg\")"
   ]
  }
 ],
 "metadata": {
  "kernelspec": {
   "display_name": "Python 3",
   "language": "python",
   "name": "python3"
  },
  "language_info": {
   "codemirror_mode": {
    "name": "ipython",
    "version": 3
   },
   "file_extension": ".py",
   "mimetype": "text/x-python",
   "name": "python",
   "nbconvert_exporter": "python",
   "pygments_lexer": "ipython3",
   "version": "3.7.4"
  }
 },
 "nbformat": 4,
 "nbformat_minor": 2
}
