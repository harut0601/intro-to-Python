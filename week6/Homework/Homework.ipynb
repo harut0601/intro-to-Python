{
 "cells": [
  {
   "cell_type": "markdown",
   "metadata": {},
   "source": [
    "# Problem 1"
   ]
  },
  {
   "cell_type": "code",
   "execution_count": 24,
   "metadata": {},
   "outputs": [
    {
     "name": "stdout",
     "output_type": "stream",
     "text": [
      "No module named 'config'\n"
     ]
    }
   ],
   "source": [
    "try:\n",
    "    import config\n",
    "except Exception as error:\n",
    "    print(error)"
   ]
  },
  {
   "cell_type": "markdown",
   "metadata": {},
   "source": [
    "# Problem 2"
   ]
  },
  {
   "cell_type": "code",
   "execution_count": 18,
   "metadata": {},
   "outputs": [
    {
     "name": "stdout",
     "output_type": "stream",
     "text": [
      "Can’t divide\n"
     ]
    }
   ],
   "source": [
    "def div(x, y):\n",
    "    \n",
    "    try:           \n",
    "        x/y\n",
    "    except Exception:\n",
    "        print(\"Can’t divide\")\n",
    "    \n",
    "\n",
    "\n",
    "div(5, 0)"
   ]
  },
  {
   "cell_type": "markdown",
   "metadata": {},
   "source": [
    "# Problem 3"
   ]
  },
  {
   "cell_type": "code",
   "execution_count": 122,
   "metadata": {},
   "outputs": [],
   "source": [
    "class Person:\n",
    "    def __init__(self, name, last_name, age, gender, student, password):\n",
    "        self.name = name\n",
    "        self.last_name = last_name\n",
    "        self.age = age\n",
    "        self.gender = gender\n",
    "        self.student = student\n",
    "        self.__password = password\n",
    "        \n",
    "    def Greeting(self, second_person):\n",
    "        print(\"Welcome dear\", second_person.name)\n",
    "    def Goodbye(self):\n",
    "        print(\"Bye everyone!\")\n",
    "    def Favourite_num(self, num1):\n",
    "        print(\"My favorite number is\", num1)\n",
    "    \n",
    "    def Read_file(self, filename):\n",
    "        if type(filename) is int:\n",
    "            try:\n",
    "                new_file = filename + \".txt\"\n",
    "            except TypeError as error1:\n",
    "                print(error1)\n",
    "            \n",
    "        \n",
    "        else:\n",
    "            try:\n",
    "                new_file = filename + \".txt\"\n",
    "                open(new_file)\n",
    "            except FileNotFoundError as error:\n",
    "                print(error)\n",
    "\n",
    "            except TypeError:\n",
    "                print(\"error1\")\n",
    "            except UnboundLocalError:\n",
    "                print(UnboundLocalError)"
   ]
  },
  {
   "cell_type": "code",
   "execution_count": 123,
   "metadata": {},
   "outputs": [
    {
     "name": "stdout",
     "output_type": "stream",
     "text": [
      "Welcome dear Armen\n",
      "Bye everyone!\n",
      "My favorite number is 10\n",
      "[Errno 2] No such file or directory: 'new.txt'\n"
     ]
    }
   ],
   "source": [
    "first_person = Person(\"Artur\", \"Hayrapetyan\", 16, \"Male\", True, \"ncqncqncjnqjc\")\n",
    "second_person = Person(\"Armen\", \"Kiraksoyan\", 19, \"Male\", True, \"cnuqjcqiwnc\")\n",
    "first_person.Greeting(second_person)\n",
    "first_person.Goodbye()\n",
    "first_person.Favourite_num(10)\n",
    "first_person.Read_file('new')"
   ]
  }
 ],
 "metadata": {
  "kernelspec": {
   "display_name": "Python 3",
   "language": "python",
   "name": "python3"
  },
  "language_info": {
   "codemirror_mode": {
    "name": "ipython",
    "version": 3
   },
   "file_extension": ".py",
   "mimetype": "text/x-python",
   "name": "python",
   "nbconvert_exporter": "python",
   "pygments_lexer": "ipython3",
   "version": "3.7.4"
  }
 },
 "nbformat": 4,
 "nbformat_minor": 2
}
