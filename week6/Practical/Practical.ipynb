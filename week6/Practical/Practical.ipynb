{
 "cells": [
  {
   "cell_type": "markdown",
   "metadata": {},
   "source": [
    "# Problem 1"
   ]
  },
  {
   "cell_type": "code",
   "execution_count": 79,
   "metadata": {},
   "outputs": [
    {
     "name": "stdout",
     "output_type": "stream",
     "text": [
      "A red circle with radius 5\n"
     ]
    }
   ],
   "source": [
    "class Circle:\n",
    "    def __init__(self, radius, color):\n",
    "        self.radius = radius\n",
    "        self.color = color\n",
    "        \n",
    "    def getDesc(self):\n",
    "        print(f'A {self.color} circle with radius {self.radius}')\n",
    "    \n",
    "    \n",
    "circle = Circle(5, \"red\")\n",
    "circle.getDesc()"
   ]
  },
  {
   "cell_type": "markdown",
   "metadata": {},
   "source": [
    "# Problem 2"
   ]
  },
  {
   "cell_type": "code",
   "execution_count": 134,
   "metadata": {},
   "outputs": [
    {
     "name": "stdout",
     "output_type": "stream",
     "text": [
      "some text here\n",
      "SOME TEXT HERE\n"
     ]
    }
   ],
   "source": [
    "class NewClass:\n",
    "    def __init__(self):\n",
    "        self.my_str = \"some text here\"\n",
    "    \n",
    "    def get_string(self):\n",
    "        return self.my_str\n",
    "    \n",
    "    def print_string(self):\n",
    "        print(self.my_str.upper())\n",
    "    \n",
    "new_class = NewClass()\n",
    "\n",
    "print(new_class.get_string())\n",
    "new_class.print_string()"
   ]
  },
  {
   "cell_type": "markdown",
   "metadata": {},
   "source": [
    "# Problem 3"
   ]
  },
  {
   "cell_type": "code",
   "execution_count": 189,
   "metadata": {},
   "outputs": [
    {
     "name": "stdout",
     "output_type": "stream",
     "text": [
      "Harut Sahakyan\n",
      "low\n"
     ]
    }
   ],
   "source": [
    "class Employee:\n",
    "    def __init__(self, name, last_name, monthly_salary):\n",
    "        self.name = name\n",
    "        self.last_name = last_name\n",
    "        self.__salary=monthly_salary # protected attribute\n",
    "    \n",
    "    def getFullName(self):\n",
    "        return f'{self.name} {self.last_name}'\n",
    "    \n",
    "    def annualSalary(self):\n",
    "        if self.__salary > 100:\n",
    "            return \"high\"\n",
    "        else:\n",
    "            return \"low\"\n",
    "        \n",
    "        \n",
    "        \n",
    "employee = Employee(\"Harut\", \"Sahakyan\", 75)\n",
    "print(employee.getFullName())\n",
    "print(employee.annualSalary())"
   ]
  },
  {
   "cell_type": "markdown",
   "metadata": {},
   "source": [
    "# Problem 4"
   ]
  },
  {
   "cell_type": "code",
   "execution_count": 183,
   "metadata": {},
   "outputs": [],
   "source": [
    "class Car:\n",
    "    def __init__(self, model, color, max_speed):\n",
    "        self.model = model\n",
    "        self.color = color\n",
    "        self.max_speed = max_speed\n",
    "\n",
    "    def compareCar(self, car2):\n",
    "        if car1.max_speed > car2.max_speed:\n",
    "            return f'{car1.model} is better than {car2.model}'\n",
    "        else:\n",
    "            return f'{car2.model} is better than {car1.model}'"
   ]
  },
  {
   "cell_type": "code",
   "execution_count": 185,
   "metadata": {},
   "outputs": [
    {
     "name": "stdout",
     "output_type": "stream",
     "text": [
      "Mercedes is better than BMW\n"
     ]
    }
   ],
   "source": [
    "car1 = Car('Mercedes', 'blue', 250)\n",
    "car2 = Car('BMW', 'white', 240)\n",
    "print(car1.compareCar(car2))"
   ]
  },
  {
   "cell_type": "markdown",
   "metadata": {},
   "source": [
    "# Problem 5"
   ]
  },
  {
   "cell_type": "code",
   "execution_count": 203,
   "metadata": {},
   "outputs": [],
   "source": [
    "class Police_car:\n",
    "    tax_value = 0.2\n",
    "    def __init__(self, owner, price, pass_code):\n",
    "        self.owner = owner\n",
    "        self.price = price\n",
    "        self.__pass_code = pass_code\n",
    "        \n",
    "    def tax(self):\n",
    "        return self.price * tax_value\n",
    "    \n",
    "    def greating(self):\n",
    "        if user.__pass_code == 'admin':\n",
    "            return f'Welcome to your car, {user.owner}'\n",
    "        else:\n",
    "            return \"Something went wrong. Please try again logging in!\""
   ]
  },
  {
   "cell_type": "code",
   "execution_count": 207,
   "metadata": {},
   "outputs": [
    {
     "name": "stdout",
     "output_type": "stream",
     "text": [
      "Welcome to your car, Police\n"
     ]
    }
   ],
   "source": [
    "user = Police_car(\"Police\", 150, \"admin\")\n",
    "\n",
    "print(user.greating())"
   ]
  },
  {
   "cell_type": "markdown",
   "metadata": {},
   "source": [
    "# Problem 6"
   ]
  },
  {
   "cell_type": "code",
   "execution_count": 265,
   "metadata": {},
   "outputs": [
    {
     "data": {
      "text/plain": [
       "'I won’t wake you up today!'"
      ]
     },
     "execution_count": 265,
     "metadata": {},
     "output_type": "execute_result"
    }
   ],
   "source": [
    "from datetime import date\n",
    "import calendar\n",
    "\n",
    "def Alarm(day):\n",
    "    my_date = date.today()\n",
    "    week = calendar.day_name[my_date.weekday()]\n",
    "    \n",
    "    assert week.lower() == day.lower(), 'Alarm'\n",
    "    return \"I won’t wake you up today!\"\n",
    "    \n",
    "alarm = Alarm(\"sunday\")\n",
    "alarm"
   ]
  },
  {
   "cell_type": "markdown",
   "metadata": {},
   "source": [
    "# Problem 7"
   ]
  },
  {
   "cell_type": "code",
   "execution_count": 339,
   "metadata": {},
   "outputs": [
    {
     "name": "stdout",
     "output_type": "stream",
     "text": [
      "12\n"
     ]
    }
   ],
   "source": [
    "def sum(x, y):\n",
    "    \n",
    "    assert type(x) == int and type(y) == int, \"Arguments of type int required\"\n",
    "\n",
    "    \n",
    "    z = x + y\n",
    "    return z\n",
    "sum_new = sum(5, 7)\n",
    "print(sum_new)"
   ]
  },
  {
   "cell_type": "markdown",
   "metadata": {},
   "source": [
    "# Problem 8"
   ]
  },
  {
   "cell_type": "code",
   "execution_count": 382,
   "metadata": {},
   "outputs": [
    {
     "name": "stdout",
     "output_type": "stream",
     "text": [
      "division by zero\n"
     ]
    }
   ],
   "source": [
    "def div(x, y):\n",
    "    \n",
    "    try:           \n",
    "        x/y\n",
    "    except Exception as exception:\n",
    "        print(exception)\n",
    "    \n",
    "\n",
    "\n",
    "div(5, 0)\n",
    "            "
   ]
  },
  {
   "cell_type": "markdown",
   "metadata": {},
   "source": [
    "# Problem 8"
   ]
  },
  {
   "cell_type": "code",
   "execution_count": 383,
   "metadata": {},
   "outputs": [
    {
     "name": "stdout",
     "output_type": "stream",
     "text": [
      "division by zero\n"
     ]
    }
   ],
   "source": [
    "def div(x, y):\n",
    "    \n",
    "    try:           \n",
    "        x/y\n",
    "    except ZeroDivisionError as error:\n",
    "        print(error)\n",
    "    \n",
    "    except Exception as exception:\n",
    "        print(exception)\n",
    "    \n",
    "\n",
    "div(5, 0)\n",
    "            "
   ]
  },
  {
   "cell_type": "markdown",
   "metadata": {},
   "source": [
    "# Problem 9"
   ]
  },
  {
   "cell_type": "code",
   "execution_count": 392,
   "metadata": {},
   "outputs": [
    {
     "name": "stdout",
     "output_type": "stream",
     "text": [
      "Oops! unsupported operand type(s) for /: 'int' and 'str'\n",
      "Oops! division by zero\n",
      "The entry is: 0.5\n"
     ]
    }
   ],
   "source": [
    "list1 = ['a', 0, 2] \n",
    "\n",
    "for i in list1:\n",
    "    try:\n",
    "        print(\"The entry is:\", 1/i)\n",
    "    except Exception as error:\n",
    "        print(\"Oops!\", error)"
   ]
  },
  {
   "cell_type": "markdown",
   "metadata": {},
   "source": [
    "# Problem 10"
   ]
  },
  {
   "cell_type": "code",
   "execution_count": 416,
   "metadata": {},
   "outputs": [
    {
     "name": "stdout",
     "output_type": "stream",
     "text": [
      "The username here: a\n",
      "Welcome, a\n"
     ]
    }
   ],
   "source": [
    "username = input(\"The username here: \")\n",
    "\n",
    "    \n",
    "try:\n",
    "    if username == \"Rambo\":\n",
    "        raise Exception\n",
    "except Exception:\n",
    "    print('Rambo is an invalid username')\n",
    "    \n",
    "else:\n",
    "    print(f'Welcome, {username}')"
   ]
  },
  {
   "cell_type": "code",
   "execution_count": null,
   "metadata": {},
   "outputs": [],
   "source": []
  }
 ],
 "metadata": {
  "kernelspec": {
   "display_name": "Python 3",
   "language": "python",
   "name": "python3"
  },
  "language_info": {
   "codemirror_mode": {
    "name": "ipython",
    "version": 3
   },
   "file_extension": ".py",
   "mimetype": "text/x-python",
   "name": "python",
   "nbconvert_exporter": "python",
   "pygments_lexer": "ipython3",
   "version": "3.7.4"
  }
 },
 "nbformat": 4,
 "nbformat_minor": 2
}
