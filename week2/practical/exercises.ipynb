{
 "cells": [
  {
   "cell_type": "markdown",
   "metadata": {
    "scrolled": true
   },
   "source": [
    "# Problem1\n"
   ]
  },
  {
   "cell_type": "code",
   "execution_count": null,
   "metadata": {},
   "outputs": [],
   "source": [
    "run problem1.py 1 asd True"
   ]
  },
  {
   "cell_type": "markdown",
   "metadata": {},
   "source": [
    "# problem2"
   ]
  },
  {
   "cell_type": "code",
   "execution_count": 14,
   "metadata": {
    "scrolled": false
   },
   "outputs": [
    {
     "name": "stdout",
     "output_type": "stream",
     "text": [
      "Welcome, Anna !\n"
     ]
    }
   ],
   "source": [
    "run problem2.py Anna"
   ]
  },
  {
   "cell_type": "markdown",
   "metadata": {},
   "source": [
    "# Problem3"
   ]
  },
  {
   "cell_type": "code",
   "execution_count": 15,
   "metadata": {},
   "outputs": [
    {
     "name": "stdout",
     "output_type": "stream",
     "text": [
      "What's your name? anna\n",
      "Welcome, anna !\n"
     ]
    }
   ],
   "source": [
    "user_name = input(\"What's your name? \")\n",
    "print(\"Welcome,\", user_name,\"!\")"
   ]
  },
  {
   "cell_type": "markdown",
   "metadata": {},
   "source": [
    "# Problem4"
   ]
  },
  {
   "cell_type": "code",
   "execution_count": 17,
   "metadata": {},
   "outputs": [
    {
     "name": "stdout",
     "output_type": "stream",
     "text": [
      "Happy Birthday, you are already 15 years old!\n"
     ]
    }
   ],
   "source": [
    "run problem4.py --age=15"
   ]
  },
  {
   "cell_type": "markdown",
   "metadata": {},
   "source": [
    "# Problem5"
   ]
  },
  {
   "cell_type": "code",
   "execution_count": 22,
   "metadata": {},
   "outputs": [
    {
     "name": "stdout",
     "output_type": "stream",
     "text": [
      "The given string:   A sAmpLe stRING\n",
      "All lowercase:   a sample string\n",
      "All uppercase:  A SAMPLE STRING\n"
     ]
    }
   ],
   "source": [
    "str = \" A sAmpLe stRING\"\n",
    "print(\"The given string: \", str)\n",
    "print(\"All lowercase: \", str.lower())\n",
    "print(\"All uppercase:\", str.upper())"
   ]
  },
  {
   "cell_type": "code",
   "execution_count": 23,
   "metadata": {},
   "outputs": [
    {
     "name": "stdout",
     "output_type": "stream",
     "text": [
      "Write something... Hello dear friend\n",
      "The given string:  Hello dear friend\n",
      "All lowercase:  hello dear friend\n",
      "All uppercase: HELLO DEAR FRIEND\n"
     ]
    }
   ],
   "source": [
    "#Another solution\n",
    "str = input(\"Write something... \")\n",
    "print(\"The given string: \", str)\n",
    "print(\"All lowercase: \", str.lower())\n",
    "print(\"All uppercase:\", str.upper())"
   ]
  },
  {
   "cell_type": "markdown",
   "metadata": {},
   "source": [
    "# Problem6"
   ]
  },
  {
   "cell_type": "code",
   "execution_count": 33,
   "metadata": {},
   "outputs": [
    {
     "name": "stdout",
     "output_type": "stream",
     "text": [
      "Write some lettersabbbbbaaaaaaaeaa\n",
      "The given text:  abbbbbaaaaaaaeaa\n",
      "# of a: 10\n",
      "# of b: 5\n",
      "# of c: 0\n",
      "# of d: 0\n",
      "# of e: 1\n"
     ]
    }
   ],
   "source": [
    "text1 = input(\"Write some letters\")\n",
    "print(\"The given text: \", text1)\n",
    "print(\"# of a:\", text1.count(\"a\"))\n",
    "print(\"# of b:\", text1.count(\"b\"))\n",
    "print(\"# of c:\", text1.count(\"c\"))\n",
    "print(\"# of d:\", text1.count(\"d\"))\n",
    "print(\"# of e:\", text1.count(\"e\"))"
   ]
  },
  {
   "cell_type": "markdown",
   "metadata": {},
   "source": [
    "# Problem7\n"
   ]
  },
  {
   "cell_type": "code",
   "execution_count": null,
   "metadata": {},
   "outputs": [],
   "source": [
    "# Solution 1\n",
    "str1 = \"How are you John?\"\n",
    "name = input(\"What's your name? \")\n",
    "str2 = str1[0:11] + \" \" + name\n",
    "print(str2)"
   ]
  },
  {
   "cell_type": "code",
   "execution_count": 48,
   "metadata": {},
   "outputs": [
    {
     "name": "stdout",
     "output_type": "stream",
     "text": [
      "What's your name? Anna\n",
      "How are you Anna?\n"
     ]
    }
   ],
   "source": [
    "#Solution 2\n",
    "str1 = \"How are you John?\"\n",
    "name = input(\"What's your name? \")\n",
    "str2 = str1.replace(\"John\", name)\n",
    "print(str2)"
   ]
  },
  {
   "cell_type": "markdown",
   "metadata": {},
   "source": [
    "# Problem8"
   ]
  },
  {
   "cell_type": "code",
   "execution_count": 49,
   "metadata": {},
   "outputs": [
    {
     "name": "stdout",
     "output_type": "stream",
     "text": [
      "Hi, where are you from? Armenia\n",
      "How long have you lived here? 25\n",
      "Q/Hi, where are you from?\n",
      "A/Armenia\n",
      "Q/How long have you lived here?\n",
      "A/25\n"
     ]
    }
   ],
   "source": [
    "#Solution1\n",
    "country = input(\"Hi, where are you from? \")\n",
    "years = input(\"How long have you lived here? \")\n",
    "print(\"Q/Hi, where are you from?\")\n",
    "print(\"A/\" + country)\n",
    "print(\"Q/How long have you lived here?\")\n",
    "print(\"A/\" + years)"
   ]
  },
  {
   "cell_type": "code",
   "execution_count": 53,
   "metadata": {},
   "outputs": [
    {
     "name": "stdout",
     "output_type": "stream",
     "text": [
      "Hi, where are you from?\n",
      "I'm from Armenia\n",
      "How long have you lived here?\n",
      "For 16 years\n"
     ]
    }
   ],
   "source": [
    "#Solution2\n",
    "country = \"Armenia\"\n",
    "years = \"16\"\n",
    "print(\"Hi, where are you from?\")\n",
    "print(\"I'm from \" + country)\n",
    "print(\"How long have you lived here?\")\n",
    "print(\"For \" + years + \" years\")"
   ]
  },
  {
   "cell_type": "markdown",
   "metadata": {},
   "source": [
    "# Problem9"
   ]
  },
  {
   "cell_type": "code",
   "execution_count": 1,
   "metadata": {},
   "outputs": [
    {
     "name": "stdout",
     "output_type": "stream",
     "text": [
      "The given text: Thisisasampletext\n",
      "Start index: 5\n",
      "End index: 9\n",
      "Output string: sasa\n"
     ]
    }
   ],
   "source": [
    "given_text = input(\"The given text: \")\n",
    "start_index = int(input(\"Start index: \"))\n",
    "end_index = int(input(\"End index: \"))\n",
    "mixed = given_text[start_index : end_index]\n",
    "print(\"Output string: \" + mixed)"
   ]
  },
  {
   "cell_type": "markdown",
   "metadata": {},
   "source": [
    "# Problem10"
   ]
  },
  {
   "cell_type": "code",
   "execution_count": 36,
   "metadata": {},
   "outputs": [],
   "source": [
    "#Importing libraries\n",
    "import datetime\n",
    "import time\n",
    "import calendar\n"
   ]
  },
  {
   "cell_type": "code",
   "execution_count": 45,
   "metadata": {},
   "outputs": [
    {
     "name": "stdout",
     "output_type": "stream",
     "text": [
      "2019-10-27 12:11:21.192207\n",
      "2019\n",
      "10\n",
      "7\n",
      "2019-10-22 12:11:21.194207\n",
      "2019-10-27 12:11:26.194207\n",
      "2019-10-27 12:11:21.194207\n"
     ]
    }
   ],
   "source": [
    "#a\n",
    "print(datetime.datetime.now())\n",
    "#b\n",
    "year = datetime.date.today().year\n",
    "print(year)\n",
    "#c\n",
    "month = datetime.date.today().month\n",
    "print(month)\n",
    "#d\n",
    "weekday = datetime.datetime.now()\n",
    "print(weekday.isoweekday())\n",
    "#e\n",
    "N = 5\n",
    "print(datetime.datetime.now() - datetime.timedelta(days = N))\n",
    "#f\n",
    "N = 5\n",
    "print(datetime.datetime.now() + datetime.timedelta(seconds = N))\n",
    "print(datetime.datetime.now())"
   ]
  },
  {
   "cell_type": "code",
   "execution_count": null,
   "metadata": {},
   "outputs": [],
   "source": []
  }
 ],
 "metadata": {
  "kernelspec": {
   "display_name": "Python 3",
   "language": "python",
   "name": "python3"
  },
  "language_info": {
   "codemirror_mode": {
    "name": "ipython",
    "version": 3
   },
   "file_extension": ".py",
   "mimetype": "text/x-python",
   "name": "python",
   "nbconvert_exporter": "python",
   "pygments_lexer": "ipython3",
   "version": "3.7.4"
  }
 },
 "nbformat": 4,
 "nbformat_minor": 2
}
