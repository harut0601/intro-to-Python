{
 "cells": [
  {
   "cell_type": "markdown",
   "metadata": {},
   "source": [
    "# Problem 1"
   ]
  },
  {
   "cell_type": "code",
   "execution_count": 82,
   "metadata": {
    "scrolled": false
   },
   "outputs": [
    {
     "name": "stdout",
     "output_type": "stream",
     "text": [
      "Current year:  2019-10-27 13:28:19.250781\n",
      "Given years: 3\n",
      "Given days: None\n",
      "Final year: 2016\n",
      "Final day: Null\n"
     ]
    }
   ],
   "source": [
    "run problem1.py --num_y=3"
   ]
  },
  {
   "cell_type": "markdown",
   "metadata": {},
   "source": [
    "# Problem 2"
   ]
  },
  {
   "cell_type": "code",
   "execution_count": 76,
   "metadata": {},
   "outputs": [
    {
     "name": "stdout",
     "output_type": "stream",
     "text": [
      "text here: abcdefghijk\n",
      "The old string: abcdefghijk\n",
      "Middle 3 charecters: efg\n",
      "The new string:  abcdEFGhijk\n"
     ]
    }
   ],
   "source": [
    "#solution1\n",
    "text = input(\"text here: \")\n",
    "middle_letter = len(text)/2\n",
    "first_letter = int(middle_letter-1)\n",
    "last_letter = int(middle_letter+2)\n",
    "new_string = text[first_letter:last_letter]\n",
    "print(\"The old string: \" + text)\n",
    "print(\"Middle 3 charecters:\", text[first_letter:last_letter])\n",
    "upper = new_string.upper()\n",
    "string1 = text.replace(new_string, upper)\n",
    "print(\"The new string: \", string1)"
   ]
  },
  {
   "cell_type": "code",
   "execution_count": 99,
   "metadata": {},
   "outputs": [
    {
     "name": "stdout",
     "output_type": "stream",
     "text": [
      "The old string: hello\n",
      "Middle 3 charecters: ell\n",
      "The new string:  hELLo\n"
     ]
    }
   ],
   "source": [
    "run problem2.py hello"
   ]
  },
  {
   "cell_type": "markdown",
   "metadata": {},
   "source": [
    "# Problem3 "
   ]
  },
  {
   "cell_type": "code",
   "execution_count": 77,
   "metadata": {},
   "outputs": [
    {
     "name": "stdout",
     "output_type": "stream",
     "text": [
      "The given text: abcdefghijk\n",
      "First word: a\n",
      "Second word: c\n",
      "cbcdefghijk\n"
     ]
    }
   ],
   "source": [
    "text = input(\"The given text: \")\n",
    "first_word = input(\"First word: \")\n",
    "second_word = input(\"Second word: \")\n",
    "\n",
    "output_string = text.replace(first_word, second_word)\n",
    "print(output_string)"
   ]
  },
  {
   "cell_type": "markdown",
   "metadata": {},
   "source": [
    "# Problem4"
   ]
  },
  {
   "cell_type": "code",
   "execution_count": 141,
   "metadata": {},
   "outputs": [
    {
     "name": "stdout",
     "output_type": "stream",
     "text": [
      "The given string:  Welcome to USA. usa is awesome, isn’t it?,\n",
      "The USA/usa count is:  2\n",
      "Welcome to Armenia. Armenia is awesome, isn’t it?,\n"
     ]
    }
   ],
   "source": [
    "run problem3.py \"Welcome to USA. usa is awesome, isn’t it?\", \"Armenia\""
   ]
  },
  {
   "cell_type": "markdown",
   "metadata": {},
   "source": [
    "# Problem5"
   ]
  },
  {
   "cell_type": "code",
   "execution_count": 182,
   "metadata": {},
   "outputs": [
    {
     "name": "stdout",
     "output_type": "stream",
     "text": [
      "2003-01-06\n",
      "2003\n",
      "6\n",
      "0\n",
      "6138 days, 0:00:00\n",
      "The calendar: \n",
      "      May 2017\n",
      "Mo Tu We Th Fr Sa Su\n",
      " 1  2  3  4  5  6  7\n",
      " 8  9 10 11 12 13 14\n",
      "15 16 17 18 19 20 21\n",
      "22 23 24 25 26 27 28\n",
      "29 30 31\n",
      "\n",
      "Yesterday date: 2019-10-26\n",
      "Time now: 20:16:18.069924\n",
      "2 days more: 2019-10-28\n",
      "3 days less: 2019-10-23\n"
     ]
    }
   ],
   "source": [
    "run problem4.py"
   ]
  },
  {
   "cell_type": "code",
   "execution_count": null,
   "metadata": {},
   "outputs": [],
   "source": []
  },
  {
   "cell_type": "code",
   "execution_count": null,
   "metadata": {},
   "outputs": [],
   "source": []
  }
 ],
 "metadata": {
  "kernelspec": {
   "display_name": "Python 3",
   "language": "python",
   "name": "python3"
  },
  "language_info": {
   "codemirror_mode": {
    "name": "ipython",
    "version": 3
   },
   "file_extension": ".py",
   "mimetype": "text/x-python",
   "name": "python",
   "nbconvert_exporter": "python",
   "pygments_lexer": "ipython3",
   "version": "3.7.4"
  }
 },
 "nbformat": 4,
 "nbformat_minor": 2
}
